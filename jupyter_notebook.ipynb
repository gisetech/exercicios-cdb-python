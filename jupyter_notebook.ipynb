{
 "cells": [
  {
   "cell_type": "markdown",
   "metadata": {},
   "source": [
    "# Exercícios de Python - Fundamentos\n",
    "\n",
    "Este notebook contém exercícios práticos organizados por assunto para aprender os fundamentos da programação em Python."
   ]
  },
  {
   "cell_type": "markdown",
   "metadata": {},
   "source": [
    "## 1. Operadores\n",
    "\n",
    "Exercícios sobre operadores matemáticos em Python."
   ]
  },
  {
   "cell_type": "markdown",
   "metadata": {},
   "source": [
    "### Exercício 1.1 - Operações básicas com dois números"
   ]
  },
  {
   "cell_type": "code",
   "execution_count": null,
   "metadata": {},
   "outputs": [],
   "source": [
    "# Calcule e imprima a soma, subtração, multiplicação e divisão de dois números quaisquer\n",
    "# Exemplo: 20 e 4\n",
    "\n",
    "num1 = 20\n",
    "num2 = 4\n",
    "\n",
    "soma = num1 + num2\n",
    "subtracao = num1 - num2\n",
    "multiplicacao = num1 * num2\n",
    "divisao = num1 / num2\n",
    "\n",
    "print(f\"Números: {num1} e {num2}\")\n",
    "print(f\"Soma: {soma}\")\n",
    "print(f\"Subtração: {subtracao}\")\n",
    "print(f\"Multiplicação: {multiplicacao}\")\n",
    "print(f\"Divisão: {divisao}\")"
   ]
  },
  {
   "cell_type": "markdown",
   "metadata": {},
   "source": [
    "### Exercício 1.2 - Divisão inteira e resto"
   ]
  },
  {
   "cell_type": "code",
   "execution_count": null,
   "metadata": {},
   "outputs": [],
   "source": [
    "# Para a divisão de 25 por 7, qual seria a parte inteira do resultado e qual seria o resto da divisão?\n",
    "\n",
    "dividendo = 25\n",
    "divisor = 7\n",
    "\n",
    "divisao_inteira = dividendo // divisor  # Operador de divisão inteira\n",
    "resto = dividendo % divisor  # Operador módulo (resto da divisão)\n",
    "\n",
    "print(f\"Divisão de {dividendo} por {divisor}:\")\n",
    "print(f\"Parte inteira: {divisao_inteira}\")\n",
    "print(f\"Resto da divisão: {resto}\")\n",
    "print(f\"Verificação: {divisor} × {divisao_inteira} + {resto} = {divisor * divisao_inteira + resto}\")"
   ]
  },
  {
   "cell_type": "markdown",
   "metadata": {},
   "source": [
    "### Exercício 1.3 - Potenciação"
   ]
  },
  {
   "cell_type": "code",
   "execution_count": null,
   "metadata": {},
   "outputs": [],
   "source": [
    "# Calcule 5 elevado à quarta potência\n",
    "\n",
    "base = 5\n",
    "expoente = 4\n",
    "\n",
    "resultado = base ** expoente  # Operador de potenciação\n",
    "\n",
    "print(f\"{base} elevado à {expoente}ª potência = {resultado}\")"
   ]
  },
  {
   "cell_type": "markdown",
   "metadata": {},
   "source": [
    "### Exercício 1.4 - Ordem das operações"
   ]
  },
  {
   "cell_type": "code",
   "execution_count": null,
   "metadata": {},
   "outputs": [],
   "source": [
    "# Qual o resultado da expressão 10 + 6 * 2? Explique a ordem das operações.\n",
    "\n",
    "expressao = 10 + 6 * 2\n",
    "\n",
    "print(f\"Resultado da expressão 10 + 6 * 2 = {expressao}\")\n",
    "print(\"\\nExplicação da ordem das operações:\")\n",
    "print(\"1. Python segue a precedência matemática (PEMDAS/BODMAS)\")\n",
    "print(\"2. Multiplicação tem precedência maior que adição\")\n",
    "print(\"3. Primeiro: 6 * 2 = 12\")\n",
    "print(\"4. Depois: 10 + 12 = 22\")\n",
    "\n",
    "# Demonstrando passo a passo\n",
    "passo1 = 6 * 2\n",
    "passo2 = 10 + passo1\n",
    "print(f\"\\nPasso a passo:\")\n",
    "print(f\"6 * 2 = {passo1}\")\n",
    "print(f\"10 + {passo1} = {passo2}\")"
   ]
  },
  {
   "cell_type": "markdown",
   "metadata": {},
   "source": [
    "## 2. Variáveis e Input\n",
    "\n",
    "Exercícios sobre declaração de variáveis, tipos de dados e entrada do usuário."
   ]
  },
  {
   "cell_type": "markdown",
   "metadata": {},
   "source": [
    "### Exercício 2.1 - Tipos de variáveis"
   ]
  },
  {
   "cell_type": "code",
   "execution_count": null,
   "metadata": {},
   "outputs": [],
   "source": [
    "# Declare uma variável chamada nome_cidade com o valor \"São Paulo\" \n",
    "# e uma variável chamada temperatura com o valor 23.5. \n",
    "# Em seguida, exiba o tipo de cada variável usando a função type().\n",
    "\n",
    "nome_cidade = \"São Paulo\"\n",
    "temperatura = 23.5\n",
    "\n",
    "print(f\"Variável nome_cidade: {nome_cidade}\")\n",
    "print(f\"Tipo de nome_cidade: {type(nome_cidade)}\")\n",
    "print()\n",
    "print(f\"Variável temperatura: {temperatura}\")\n",
    "print(f\"Tipo de temperatura: {type(temperatura)}\")"
   ]
  },
  {
   "cell_type": "markdown",
   "metadata": {},
   "source": [
    "### Exercício 2.2 - Input com conversão para inteiro"
   ]
  },
  {
   "cell_type": "code",
   "execution_count": null,
   "metadata": {},
   "outputs": [],
   "source": [
    "# Peça ao usuário para digitar o número de alunos em uma turma \n",
    "# e armazene-o em uma variável, garantindo que seja do tipo inteiro. \n",
    "# Em seguida, imprima o número de alunos.\n",
    "\n",
    "numero_alunos = int(input(\"Digite o número de alunos na turma: \"))\n",
    "\n",
    "print(f\"Número de alunos: {numero_alunos}\")\n",
    "print(f\"Tipo da variável: {type(numero_alunos)}\")"
   ]
  },
  {
   "cell_type": "markdown",
   "metadata": {},
   "source": [
    "### Exercício 2.3 - Input com conversão para float"
   ]
  },
  {
   "cell_type": "code",
   "execution_count": null,
   "metadata": {},
   "outputs": [],
   "source": [
    "# Peça ao usuário para digitar o preço unitário de um item (que pode ter casas decimais) \n",
    "# e armazene-o em uma variável, garantindo que seja do tipo float. \n",
    "# Imprima o preço digitado.\n",
    "\n",
    "preco_unitario = float(input(\"Digite o preço unitário do item: R$ \"))\n",
    "\n",
    "print(f\"Preço unitário: R$ {preco_unitario:.2f}\")\n",
    "print(f\"Tipo da variável: {type(preco_unitario)}\")"
   ]
  },
  {
   "cell_type": "markdown",
   "metadata": {},
   "source": [
    "### Exercício 2.4 - Raiz quadrada"
   ]
  },
  {
   "cell_type": "code",
   "execution_count": null,
   "metadata": {},
   "outputs": [],
   "source": [
    "# Peça ao usuário para digitar um número e exiba a raiz quadrada desse número.\n",
    "\n",
    "import math\n",
    "\n",
    "numero = float(input(\"Digite um número para calcular sua raiz quadrada: \"))\n",
    "\n",
    "if numero >= 0:\n",
    "    raiz_quadrada = math.sqrt(numero)\n",
    "    print(f\"A raiz quadrada de {numero} é {raiz_quadrada:.2f}\")\n",
    "else:\n",
    "    print(\"Não é possível calcular a raiz quadrada de um número negativo.\")"
   ]
  },
  {
   "cell_type": "markdown",
   "metadata": {},
   "source": [
    "## 3. Booleano\n",
    "\n",
    "Exercícios sobre valores booleanos e operadores de comparação."
   ]
  },
  {
   "cell_type": "markdown",
   "metadata": {},
   "source": [
    "### Exercício 3.1 - Comparação de números"
   ]
  },
  {
   "cell_type": "code",
   "execution_count": null,
   "metadata": {},
   "outputs": [],
   "source": [
    "# Declare duas variáveis, valor_a = 15 e valor_b = 15. \n",
    "# Verifique se valor_a é menor que valor_b. Imprima o resultado booleano.\n",
    "\n",
    "valor_a = 15\n",
    "valor_b = 15\n",
    "\n",
    "resultado = valor_a < valor_b\n",
    "\n",
    "print(f\"valor_a = {valor_a}\")\n",
    "print(f\"valor_b = {valor_b}\")\n",
    "print(f\"valor_a < valor_b: {resultado}\")"
   ]
  },
  {
   "cell_type": "markdown",
   "metadata": {},
   "source": [
    "### Exercício 3.2 - Comparação de strings"
   ]
  },
  {
   "cell_type": "code",
   "execution_count": null,
   "metadata": {},
   "outputs": [],
   "source": [
    "# Declare palavra1 = \"Olá\" e palavra2 = \"olá\". \n",
    "# Verifique se palavra1 é igual a palavra2 e se palavra1 é diferente de palavra2. \n",
    "# Imprima os resultados das duas comparações (booleanos TRUE ou FALSE).\n",
    "\n",
    "palavra1 = \"Olá\"\n",
    "palavra2 = \"olá\"\n",
    "\n",
    "iguais = palavra1 == palavra2\n",
    "diferentes = palavra1 != palavra2\n",
    "\n",
    "print(f\"palavra1 = '{palavra1}'\")\n",
    "print(f\"palavra2 = '{palavra2}'\")\n",
    "print(f\"palavra1 == palavra2: {iguais}\")\n",
    "print(f\"palavra1 != palavra2: {diferentes}\")\n",
    "print(\"\\nNota: Python diferencia maiúsculas de minúsculas (case-sensitive)\")"
   ]
  },
  {
   "cell_type": "markdown",
   "metadata": {},
   "source": [
    "### Exercício 3.3 - Condição para frete grátis"
   ]
  },
  {
   "cell_type": "code",
   "execution_count": null,
   "metadata": {},
   "outputs": [],
   "source": [
    "# Um cliente tem direito a frete grátis se a compra for acima de 200 reais e o cliente for cadastrado.\n",
    "# Atribua a cliente_cadastrado o valor True\n",
    "# Receba via input o total da compra.\n",
    "# Armazene em frete_gratis a condição BOOLEANA se total_compra > 200 e cliente_cadastrado = True.\n",
    "# Imprima o valor (booleano) da variável frete_gratis.\n",
    "\n",
    "cliente_cadastrado = True\n",
    "total_compra = float(input(\"Digite o total da compra: R$ \"))\n",
    "\n",
    "frete_gratis = total_compra > 200 and cliente_cadastrado\n",
    "\n",
    "print(f\"\\nTotal da compra: R$ {total_compra:.2f}\")\n",
    "print(f\"Cliente cadastrado: {cliente_cadastrado}\")\n",
    "print(f\"Frete grátis: {frete_gratis}\")\n",
    "\n",
    "# Explicação das condições\n",
    "print(f\"\\nCondições:\")\n",
    "print(f\"- Compra > R$ 200: {total_compra > 200}\")\n",
    "print(f\"- Cliente cadastrado: {cliente_cadastrado}\")\n",
    "print(f\"- Ambas verdadeiras: {frete_gratis}\")"
   ]
  },
  {
   "cell_type": "markdown",
   "metadata": {},
   "source": [
    "## 4. Decisões\n",
    "\n",
    "Exercícios sobre estruturas condicionais (if, else, elif)."
   ]
  },
  {
   "cell_type": "markdown",
   "metadata": {},
   "source": [
    "### Exercício 4.1 - Número positivo"
   ]
  },
  {
   "cell_type": "code",
   "execution_count": null,
   "metadata": {},
   "outputs": [],
   "source": [
    "# Peça ao usuário para digitar um número. \n",
    "# Se o número for positivo, imprima \"Número positivo!\".\n",
    "\n",
    "numero = float(input(\"Digite um número: \"))\n",
    "\n",
    "if numero > 0:\n",
    "    print(\"Número positivo!\")\n",
    "elif numero == 0:\n",
    "    print(\"O número é zero.\")\n",
    "else:\n",
    "    print(\"Número negativo.\")"
   ]
  },
  {
   "cell_type": "markdown",
   "metadata": {},
   "source": [
    "### Exercício 4.2 - Turno de estudo"
   ]
  },
  {
   "cell_type": "code",
   "execution_count": null,
   "metadata": {},
   "outputs": [],
   "source": [
    "# Peça ao usuário para digitar o turno em que estuda ('M' para manhã, 'N' para noite). \n",
    "# Se for 'M', imprima \"Bom dia!\". \n",
    "# Caso contrário (para qualquer outro valor, incluindo 'N'), imprima \"Boa noite!\".\n",
    "\n",
    "turno = input(\"Digite o turno em que estuda (M para manhã, N para noite): \").upper()\n",
    "\n",
    "if turno == 'M':\n",
    "    print(\"Bom dia!\")\n",
    "else:\n",
    "    print(\"Boa noite!\")"
   ]
  },
  {
   "cell_type": "markdown",
   "metadata": {},
   "source": [
    "### Exercício 4.3 - Classificação de temperatura"
   ]
  },
  {
   "cell_type": "code",
   "execution_count": null,
   "metadata": {},
   "outputs": [],
   "source": [
    "# Peça ao usuário para digitar uma temperatura em Celsius.\n",
    "# Se a temperatura for maior que 30, imprima \"Está muito quente!\".\n",
    "# Se for menor que 10, imprima \"Está muito frio!\".\n",
    "# Caso contrário (entre 10 e 30, inclusive), imprima \"Temperatura agradável.\".\n",
    "\n",
    "temperatura = float(input(\"Digite a temperatura em Celsius: \"))\n",
    "\n",
    "if temperatura > 30:\n",
    "    print(\"Está muito quente!\")\n",
    "elif temperatura < 10:\n",
    "    print(\"Está muito frio!\")\n",
    "else:\n",
    "    print(\"Temperatura agradável.\")"
   ]
  },
  {
   "cell_type": "markdown",
   "metadata": {},
   "source": [
    "### Exercício 4.4 - Números pares e ímpares com condições aninhadas"
   ]
  },
  {
   "cell_type": "code",
   "execution_count": null,
   "metadata": {},
   "outputs": [],
   "source": [
    "# Peça ao usuário para digitar um número inteiro.\n",
    "# Se o número for par, verifique se ele é maior que 10.\n",
    "#   Se for par e maior que 10, imprima \"Número par e grande!\".\n",
    "#   Se for par mas não maior que 10 (ou seja, menor ou igual a 10), imprima \"Número par e pequeno.\".\n",
    "# Se o número for ímpar, imprima \"Número ímpar.\".\n",
    "\n",
    "numero = int(input(\"Digite um número inteiro: \"))\n",
    "\n",
    "if numero % 2 == 0:  # Número é par\n",
    "    if numero > 10:\n",
    "        print(\"Número par e grande!\")\n",
    "    else:\n",
    "        print(\"Número par e pequeno.\")\n",
    "else:  # Número é ímpar\n",
    "    print(\"Número ímpar.\")"
   ]
  },
  {
   "cell_type": "markdown",
   "metadata": {},
   "source": [
    "## 5. Repetições\n",
    "\n",
    "Exercícios sobre estruturas de repetição (loops)."
   ]
  },
  {
   "cell_type": "markdown",
   "metadata": {},
   "source": [
    "### Exercício 5.1 - Loop simples de 1 a 7"
   ]
  },
  {
   "cell_type": "code",
   "execution_count": null,
   "metadata": {},
   "outputs": [],
   "source": [
    "# Use um loop para imprimir os números de 1 a 7.\n",
    "\n",
    "print(\"Números de 1 a 7:\")\n",
    "for i in range(1, 8):  # range(1, 8) gera números de 1 a 7\n",
    "    print(i)"
   ]
  },
  {
   "cell_type": "markdown",
   "metadata": {},
   "source": [
    "### Exercício 5.2 - Contagem regressiva"
   ]
  },
  {
   "cell_type": "code",
   "execution_count": null,
   "metadata": {},
   "outputs": [],
   "source": [
    "# Use um loop para fazer uma contagem regressiva de 5 até 1, imprimindo cada número.\n",
    "\n",
    "print(\"Contagem regressiva:\")\n",
    "for i in range(5, 0, -1):  # range(5, 0, -1) gera números de 5 a 1 em ordem decrescente\n",
    "    print(i)\n",
    "\n",
    "print(\"🚀 Lançamento!\")"
   ]
  },
  {
   "cell_type": "markdown",
   "metadata": {},
   "source": [
    "### Exercício 5.3 - Tabuada"
   ]
  },
  {
   "cell_type": "code",
   "execution_count": null,
   "metadata": {},
   "outputs": [],
   "source": [
    "# Peça ao usuário para digitar um número e gere a tabuada desse número \n",
    "# de 1 a 10 usando um loop.\n",
    "\n",
    "numero = int(input(\"Digite um número para gerar sua tabuada: \"))\n",
    "\n",
    "print(f\"\\nTabuada do {numero}:\")\n",
    "print(\"-\" * 20)\n",
    "\n",
    "for i in range(1, 11):  # De 1 a 10\n",
    "    resultado = numero * i\n",
    "    print(f\"{numero} × {i:2} = {resultado:3}\")"
   ]
  },
  {
   "cell_type": "markdown",
   "metadata": {},
   "source": [
    "### Exercício 5.4 - Loop com condição de parada"
   ]
  },
  {
   "cell_type": "code",
   "execution_count": null,
   "metadata": {},
   "outputs": [],
   "source": [
    "# Peça ao usuário para digitar números continuamente. \n",
    "# O loop deve parar quando a soma dos números digitados ultrapassar 100 \n",
    "# ou usuário digitar 0.\n",
    "\n",
    "soma = 0\n",
    "contador = 0\n",
    "\n",
    "print(\"Digite números para somar. O programa para quando:\")\n",
    "print(\"- A soma ultrapassar 100, ou\")\n",
    "print(\"- Você digitar 0\")\n",
    "print()\n",
    "\n",
    "while True:\n",
    "    numero = float(input(f\"Digite um número (soma atual: {soma}): \"))\n",
    "    \n",
    "    if numero == 0:\n",
    "        print(\"\\nVocê digitou 0. Encerrando o programa.\")\n",
    "        break\n",
    "    \n",
    "    soma += numero\n",
    "    contador += 1\n",
    "    \n",
    "    print(f\"Número adicionado: {numero}\")\n",
    "    print(f\"Nova soma: {soma}\")\n",
    "    \n",
    "    if soma > 100:\n",
    "        print(\"\\nA soma ultrapassou 100! Encerrando o programa.\")\n",
    "        break\n",
    "    \n",
    "    print(\"-\" * 30)\n",
    "\n",
    "print(f\"\\nResumo:\")\n",
    "print(f\"Números digitados: {contador}\")\n",
    "print(f\"Soma final: {soma}\")"
   ]
  },
  {
   "cell_type": "markdown",
   "metadata": {},
   "source": [
    "## Conclusão\n",
    "\n",
    "Este notebook cobriu os conceitos fundamentais de Python:\n",
    "\n",
    "- **Operadores**: Matemáticos, precedência de operações\n",
    "- **Variáveis e Input**: Tipos de dados, conversões, entrada do usuário\n",
    "- **Booleanos**: Comparações, operadores lógicos\n",
    "- **Decisões**: Estruturas condicionais (if, elif, else)\n",
    "- **Repetições**: Loops (for, while) com diferentes condições\n",
    "\n",
    "Execute cada célula para praticar e experimentar com diferentes valores!"
   ]
  }
 ],
 "metadata": {
  "kernelspec": {
   "display_name": "Python 3",
   "language": "python",
   "name": "python3"
  },
  "language_info": {
   "codemirror_mode": {
    "name": "ipython",
    "version": 3
   },
   "file_extension": ".py",
   "mimetype": "text/x-python",
   "name": "python",
   "nbconvert_exporter": "python",
   "pygments_lexer": "ipython3",
   "version": "3.8.5"
  }
 },
 "nbformat": 4,
 "nbformat_minor": 4
}