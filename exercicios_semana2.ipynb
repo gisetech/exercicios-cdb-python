{
 "cells": [
  {
   "cell_type": "code",
   "execution_count": null,
   "id": "b4938116",
   "metadata": {},
   "outputs": [],
   "source": [
    "\n",
    "# Exercícios Semana 2\n",
    "## Listas\n",
    "### Listas em Python são coleções ordenadas e mutáveis, definidas por colchetes []"
   ]
  },
  {
   "cell_type": "markdown",
   "id": "510e0728",
   "metadata": {},
   "source": [
    "### Exercício 2.1.1 — Operações com Lista de Vendas\n",
    "\n",
    "Crie uma lista chamada `vendas` contendo alguns valores.  \n",
    "Calcule e imprima:\n",
    "\n",
    "- a) A soma total dos valores.  \n",
    "- b) O maior e o menor valor.  \n",
    "- c) O número total de itens na lista."
   ]
  },
  {
   "cell_type": "code",
   "execution_count": 2,
   "id": "abe37a9f",
   "metadata": {},
   "outputs": [
    {
     "name": "stdout",
     "output_type": "stream",
     "text": [
      "Lista de vendas: [100, 250, 80, 120, 300]\n",
      "Soma total: 850\n",
      "Maior valor: 300\n",
      "Menor valor: 80\n",
      "Quantidade de itens: 5\n"
     ]
    }
   ],
   "source": [
    "# Criando a lista de vendas\n",
    "vendas = [100, 250, 80, 120, 300]\n",
    "\n",
    "# a) Soma total dos valores\n",
    "soma_total = sum(vendas)\n",
    "\n",
    "# b) Maior e menor valor\n",
    "maior_valor = max(vendas)\n",
    "menor_valor = min(vendas)\n",
    "\n",
    "# c) Número total de itens\n",
    "quantidade_itens = len(vendas)\n",
    "\n",
    "print(\"Lista de vendas:\", vendas)\n",
    "print(\"Soma total:\", soma_total)\n",
    "print(\"Maior valor:\", maior_valor)\n",
    "print(\"Menor valor:\", menor_valor)\n",
    "print(\"Quantidade de itens:\", quantidade_itens)"
   ]
  },
  {
   "cell_type": "markdown",
   "id": "3c130d3a",
   "metadata": {},
   "source": [
    "### Exercício 2.1.2 — Inclusão e Inserção de Elementos\n",
    "\n",
    "Utilize a lista `vendas` criada no exercício anterior.  \n",
    "Adicione o valor `500` ao final da lista e, em seguida, insira o valor `999` na segunda posição (índice 1).  \n",
    "Imprima a lista após as modificações."
   ]
  },
  {
   "cell_type": "code",
   "execution_count": 3,
   "id": "017b6ac6",
   "metadata": {},
   "outputs": [
    {
     "name": "stdout",
     "output_type": "stream",
     "text": [
      "Lista após as modificações: [100, 999, 250, 80, 120, 300, 500]\n"
     ]
    }
   ],
   "source": [
    "# Usando a lista vendas já criada\n",
    "\n",
    "# Adicionando 500 ao final\n",
    "vendas.append(500)\n",
    "\n",
    "# Inserindo 999 na posição 1\n",
    "vendas.insert(1, 999)\n",
    "\n",
    "print(\"Lista após as modificações:\", vendas)\n"
   ]
  },
  {
   "cell_type": "markdown",
   "id": "b0a9c269",
   "metadata": {},
   "source": [
    "# 2.2 Slices (Fatiamento de Listas)\n",
    "\n",
    "O fatiamento (slice) permite extrair partes de uma lista usando a sintaxe `lista[início:fim:passo]`.\n",
    "\n",
    "---\n",
    "\n",
    "### Exercício 2.2.1 — Extraindo Sublista\n",
    "\n",
    "Dada a lista `alfabeto = ['A', 'B', 'C', 'D', 'E', 'F', 'G']`, utilize o fatiamento para extrair e imprimir uma sublista contendo apenas os elementos **do índice 2 ao índice 5 (exclusivo)**."
   ]
  },
  {
   "cell_type": "code",
   "execution_count": 4,
   "id": "0c07d1f9",
   "metadata": {},
   "outputs": [
    {
     "name": "stdout",
     "output_type": "stream",
     "text": [
      "Sublista extraída: ['C', 'D', 'E']\n"
     ]
    }
   ],
   "source": [
    "# Lista inicial\n",
    "alfabeto = ['A', 'B', 'C', 'D', 'E', 'F', 'G']\n",
    "\n",
    "# Extraindo do índice 2 ao 5 (exclui o 5)\n",
    "sublista = alfabeto[2:5]\n",
    "\n",
    "print(\"Sublista extraída:\", sublista)"
   ]
  },
  {
   "cell_type": "markdown",
   "id": "8b945378",
   "metadata": {},
   "source": [
    "### Exercício 2.2.2 — Fatiamento com Passo e Inversão\n",
    "\n",
    "Utilize a lista `numeros = [3, 6, 9, 12, 15]`:\n",
    "\n",
    "- a) Extraia e imprima **todos os números ímpares** (começando do índice 0 e pulando de 2 em 2).  \n",
    "- b) Imprima a lista completa **em ordem inversa**."
   ]
  },
  {
   "cell_type": "code",
   "execution_count": 5,
   "id": "53116635",
   "metadata": {},
   "outputs": [
    {
     "name": "stdout",
     "output_type": "stream",
     "text": [
      "Números ímpares com slice: [3, 9, 15]\n",
      "Lista invertida: [15, 12, 9, 6, 3]\n"
     ]
    }
   ],
   "source": [
    "# Lista inicial\n",
    "numeros = [3, 6, 9, 12, 15]\n",
    "\n",
    "# a) Números ímpares (índices 0, 2, 4)\n",
    "impares = numeros[0::2]\n",
    "\n",
    "# b) Lista em ordem inversa\n",
    "inversa = numeros[::-1]\n",
    "\n",
    "print(\"Números ímpares com slice:\", impares)\n",
    "print(\"Lista invertida:\", inversa)\n"
   ]
  },
  {
   "cell_type": "markdown",
   "id": "c39a0fd1",
   "metadata": {},
   "source": [
    "# 2.3 Split (Divisão de Strings)\n",
    "\n",
    "A função `split()` é usada para dividir uma string em uma lista, utilizando um separador específico.\n",
    "\n",
    "---\n",
    "\n",
    "### Exercício 2.3.1 — Separando Países com split()\n",
    "\n",
    "Você recebeu uma linha de dados de um arquivo CSV que lista nomes de países.\n",
    "\n",
    "Use a função `split()` para transformar a string `registro_paises` em uma lista, separando os nomes pela vírgula.\n",
    "\n",
    "**Dado:**  \n",
    "`registro_paises = \"Brasil,Argentina,Chile,Uruguai,Paraguai\"`\n"
   ]
  },
  {
   "cell_type": "code",
   "execution_count": 1,
   "id": "20b3a577",
   "metadata": {},
   "outputs": [
    {
     "name": "stdout",
     "output_type": "stream",
     "text": [
      "Lista de países: ['Brasil', 'Argentina', 'Chile', 'Uruguai', 'Paraguai']\n"
     ]
    }
   ],
   "source": [
    "registro_paises = \"Brasil,Argentina,Chile,Uruguai,Paraguai\"\n",
    "\n",
    "lista_paises = registro_paises.split(\",\")\n",
    "\n",
    "print(\"Lista de países:\", lista_paises)\n"
   ]
  },
  {
   "cell_type": "markdown",
   "id": "4892a6d6",
   "metadata": {},
   "source": [
    "### Exercício 2.3.2 — Processamento de Registro e Conversão\n",
    "\n",
    "Receba um registro de funcionário onde os campos estão separados por ponto-e-vírgula.\n",
    "\n",
    "Quebre o registro com `split()` e verifique se o salário (3º campo) é maior que **50000**.\n",
    "\n",
    "Lembre-se de converter o salário de `string` para `float`.\n",
    "\n",
    "**Exemplo:**  \n",
    "`registro_funcionario = \"ID005;Maria Silva;12500.75;Contabilidade\"`"
   ]
  },
  {
   "cell_type": "code",
   "execution_count": 2,
   "id": "b61be53d",
   "metadata": {},
   "outputs": [
    {
     "name": "stdout",
     "output_type": "stream",
     "text": [
      "O salário de Maria Silva NÃO é maior que 50000.\n"
     ]
    }
   ],
   "source": [
    "registro_funcionario = \"ID005;Maria Silva;12500.75;Contabilidade\"\n",
    "\n",
    "# Separando os campos\n",
    "campos = registro_funcionario.split(\";\")\n",
    "\n",
    "salario = float(campos[2])  # Convertendo para float\n",
    "\n",
    "if salario > 50000:\n",
    "    print(f\"O salário de {campos[1]} é maior que 50000.\")\n",
    "else:\n",
    "    print(f\"O salário de {campos[1]} NÃO é maior que 50000.\")\n"
   ]
  },
  {
   "cell_type": "markdown",
   "id": "02bdd45f",
   "metadata": {},
   "source": [
    "# 2.4 Dicionários\n",
    "\n",
    "Dicionários funcionam com pares **chave:valor**, definidos por chaves `{ }`.\n",
    "\n",
    "---\n",
    "\n",
    "### Exercício 2.4.1 — Criando e Acessando Dicionário\n",
    "\n",
    "Crie um dicionário chamado `aluno` contendo as chaves:\n",
    "\n",
    "- `nome`\n",
    "- `idade`\n",
    "- `curso`\n",
    "\n",
    "Imprima apenas o **nome do aluno** acessando diretamente pela chave."
   ]
  },
  {
   "cell_type": "code",
   "execution_count": 3,
   "id": "415bf899",
   "metadata": {},
   "outputs": [
    {
     "name": "stdout",
     "output_type": "stream",
     "text": [
      "Nome do aluno: João Silva\n"
     ]
    }
   ],
   "source": [
    "aluno = {\n",
    "    \"nome\": \"João Silva\",\n",
    "    \"idade\": 20,\n",
    "    \"curso\": \"Engenharia\"\n",
    "}\n",
    "\n",
    "print(\"Nome do aluno:\", aluno[\"nome\"])"
   ]
  },
  {
   "cell_type": "markdown",
   "id": "9df5cd83",
   "metadata": {},
   "source": [
    "### Exercício 2.4.2 — Verificação de Chave\n",
    "\n",
    "Crie um dicionário chamado `estoque` com alguns produtos.\n",
    "\n",
    "Peça ao usuário que digite o nome de um produto. Antes de tentar imprimir o preço, **verifique se a chave existe** no dicionário para evitar erros.\n",
    "\n",
    "**Dicionário inicial:**  \n",
    "```python\n",
    "estoque = {\n",
    "    \"TV\": 1500,\n",
    "    \"Rádio\": 200,\n",
    "    \"Microondas\": 900\n",
    "}\n"
   ]
  },
  {
   "cell_type": "code",
   "execution_count": 4,
   "id": "334ce3a2",
   "metadata": {},
   "outputs": [
    {
     "name": "stdout",
     "output_type": "stream",
     "text": [
      "O preço do produto TV é R$ 1500\n"
     ]
    }
   ],
   "source": [
    "\n",
    "estoque = {\n",
    "    \"TV\": 1500,\n",
    "    \"Rádio\": 200,\n",
    "    \"Microondas\": 900\n",
    "}\n",
    "\n",
    "produto = \"TV\"  # Simulando entrada do usuário\n",
    "\n",
    "if produto in estoque:\n",
    "    print(f\"O preço do produto {produto} é R$ {estoque[produto]}\")\n",
    "else:\n",
    "    print(\"Produto não encontrado no estoque.\")\n"
   ]
  },
  {
   "cell_type": "markdown",
   "id": "85b857f3",
   "metadata": {},
   "source": [
    "# 2.5 Módulos\n",
    "\n",
    "Módulos são arquivos externos que podem ser importados no Python.\n",
    "\n",
    "---\n",
    "\n",
    "### Exercício 2.5.1 — Importando Módulo random\n",
    "\n",
    "1. Importe o módulo `random`.\n",
    "2. Gere uma lista com **5 números aleatórios entre 1 e 100**.\n",
    "3. Imprima a lista."
   ]
  },
  {
   "cell_type": "code",
   "execution_count": 5,
   "id": "4a770bf5",
   "metadata": {},
   "outputs": [
    {
     "name": "stdout",
     "output_type": "stream",
     "text": [
      "Números aleatórios: [14, 53, 88, 32, 51]\n"
     ]
    }
   ],
   "source": [
    "import random\n",
    "\n",
    "numeros_aleatorios = [random.randint(1, 100) for _ in range(5)]\n",
    "\n",
    "print(\"Números aleatórios:\", numeros_aleatorios)"
   ]
  },
  {
   "cell_type": "markdown",
   "id": "c295b88f",
   "metadata": {},
   "source": [
    "# 2.6 Tuplas\n",
    "\n",
    "Tuplas são coleções ordenadas definidas por parênteses `( )`. Elas são **imutáveis**.\n",
    "\n",
    "---\n",
    "\n",
    "### Exercício 2.6.1 — Acessando Elementos e Manipulando Lista Interna\n",
    "\n",
    "Crie uma tupla que contenha:\n",
    "\n",
    "1. Uma string  \n",
    "2. Um número  \n",
    "3. Uma **lista de nomes** no terceiro elemento\n",
    "\n",
    "Faça:\n",
    "\n",
    "- Acesse o **primeiro nome** da lista.\n",
    "- Adicione o nome `\"Felipe\"` ao final da lista."
   ]
  },
  {
   "cell_type": "code",
   "execution_count": 6,
   "id": "9301ee8c",
   "metadata": {},
   "outputs": [
    {
     "name": "stdout",
     "output_type": "stream",
     "text": [
      "Primeiro nome: Alice\n",
      "Lista atualizada: ['Alice', 'Roberto', 'Carla', 'Felipe']\n"
     ]
    }
   ],
   "source": [
    "dados_empresa = (\"Matriz 01\", 2023, [\"Alice\", \"Roberto\", \"Carla\"])\n",
    "\n",
    "# Acessando o primeiro nome\n",
    "primeiro_nome = dados_empresa[2][0]\n",
    "\n",
    "# Adicionando \"Felipe\"\n",
    "dados_empresa[2].append(\"Felipe\")\n",
    "\n",
    "print(\"Primeiro nome:\", primeiro_nome)\n",
    "print(\"Lista atualizada:\", dados_empresa[2])"
   ]
  }
 ],
 "metadata": {
  "kernelspec": {
   "display_name": ".venv",
   "language": "python",
   "name": "python3"
  },
  "language_info": {
   "codemirror_mode": {
    "name": "ipython",
    "version": 3
   },
   "file_extension": ".py",
   "mimetype": "text/x-python",
   "name": "python",
   "nbconvert_exporter": "python",
   "pygments_lexer": "ipython3",
   "version": "3.12.3"
  }
 },
 "nbformat": 4,
 "nbformat_minor": 5
}
