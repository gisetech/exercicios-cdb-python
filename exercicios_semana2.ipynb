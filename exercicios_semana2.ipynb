{
 "cells": [
  {
   "cell_type": "code",
   "execution_count": null,
   "id": "b4938116",
   "metadata": {},
   "outputs": [],
   "source": [
    "\n",
    "# Exercícios Semana 2\n",
    "## Listas\n",
    "### Listas em Python são coleções ordenadas e mutáveis, definidas por colchetes []"
   ]
  },
  {
   "cell_type": "markdown",
   "id": "510e0728",
   "metadata": {},
   "source": [
    "### Exercício 2.1.1 — Operações com Lista de Vendas\n",
    "\n",
    "Crie uma lista chamada `vendas` contendo alguns valores.  \n",
    "Calcule e imprima:\n",
    "\n",
    "- a) A soma total dos valores.  \n",
    "- b) O maior e o menor valor.  \n",
    "- c) O número total de itens na lista."
   ]
  },
  {
   "cell_type": "code",
   "execution_count": null,
   "id": "abe37a9f",
   "metadata": {},
   "outputs": [],
   "source": [
    "# Criando a lista de vendas\n",
    "vendas = [100, 250, 80, 120, 300]\n",
    "\n",
    "# a) Soma total dos valores\n",
    "soma_total = sum(vendas)\n",
    "\n",
    "# b) Maior e menor valor\n",
    "maior_valor = max(vendas)\n",
    "menor_valor = min(vendas)\n",
    "\n",
    "# c) Número total de itens\n",
    "quantidade_itens = len(vendas)\n",
    "\n",
    "print(\"Lista de vendas:\", vendas)\n",
    "print(\"Soma total:\", soma_total)\n",
    "print(\"Maior valor:\", maior_valor)\n",
    "print(\"Menor valor:\", menor_valor)\n",
    "print(\"Quantidade de itens:\", quantidade_itens)"
   ]
  }
 ],
 "metadata": {
  "language_info": {
   "name": "python"
  }
 },
 "nbformat": 4,
 "nbformat_minor": 5
}
